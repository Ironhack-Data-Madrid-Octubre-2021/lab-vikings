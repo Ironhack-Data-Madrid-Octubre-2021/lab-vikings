{
 "cells": [
  {
   "cell_type": "code",
   "execution_count": null,
   "id": "a1b2ad63",
   "metadata": {},
   "outputs": [],
   "source": [
    "from vikingsClasses import Soldier, Viking, Saxon, War\n",
    "import random\n",
    "\n",
    "print('¡BIENVENIDO A LA GUERRA VIKINGA!')\n",
    "num_jug = int(input('Introduzca el numero de vikingos :'))\n",
    "jugadores = ['Alfonso', 'Álvaro','Amanda','Ana','Andrés','Bea', 'Blanca', 'Carlos',' Dani','Daniela', 'Edu', 'Elliot', 'Ester', 'Fernando', 'Guillermo', 'Jose', 'Juan','Luis', 'Lydia','María','Nico','Pedro','Pepe','Roberto','Silvia','Sonia','Víctor']\n",
    "vikingos = []\n",
    "sajones = []\n",
    "War()\n",
    "#generamos los ejércitos\n",
    "for i in range(0,num_jug):\n",
    "    vikingos.append(Viking(random.choice(jugadores),random.choice(range(50,201)),random.choice(range(20,70))))\n",
    "    sajones.append(Saxon(random.choice(range(50,201)),random.choice(range(20,70))))\n",
    "\n",
    "    War.addViking(vikingos[i])\n",
    "    War.addSaxon(sajones[i])\n",
    "print('Ejército vikingo:', vikingos)\n",
    "print('Ejército sajón: ', sajones)\n",
    "\n",
    "\n",
    "def tirar_dado():\n",
    "    return random.choice(range(1,7))\n",
    "\n",
    "def turno_vikingo():\n",
    "    for i in range(1,tirar_dado()):\n",
    "        return War.vikingAttack()\n",
    "        \n",
    "def turno_sajon():\n",
    "    for i in range(1,tirar_dado()):\n",
    "        return War.saxonAttack()"
   ]
  }
 ],
 "metadata": {
  "kernelspec": {
   "display_name": "ironhack",
   "language": "python",
   "name": "ironhack"
  },
  "language_info": {
   "codemirror_mode": {
    "name": "ipython",
    "version": 3
   },
   "file_extension": ".py",
   "mimetype": "text/x-python",
   "name": "python",
   "nbconvert_exporter": "python",
   "pygments_lexer": "ipython3",
   "version": "3.8.8"
  }
 },
 "nbformat": 4,
 "nbformat_minor": 5
}
