{
 "cells": [
  {
   "cell_type": "code",
   "execution_count": 1,
   "id": "d4ef8b46",
   "metadata": {},
   "outputs": [],
   "source": [
    "def vikingAttack():\n",
    "        unsaxoncualquiera = random.choice(saxonArmy)\n",
    "        unvikingcualquiera = random.choice(vikingArmy)\n",
    "        "
   ]
  },
  {
   "cell_type": "code",
   "execution_count": 2,
   "id": "888ff968",
   "metadata": {},
   "outputs": [
    {
     "ename": "NameError",
     "evalue": "name 'saxon' is not defined",
     "output_type": "error",
     "traceback": [
      "\u001b[0;31m---------------------------------------------------------------------------\u001b[0m",
      "\u001b[0;31mNameError\u001b[0m                                 Traceback (most recent call last)",
      "\u001b[0;32m/tmp/ipykernel_357/262804341.py\u001b[0m in \u001b[0;36m<module>\u001b[0;34m\u001b[0m\n\u001b[0;32m----> 1\u001b[0;31m \u001b[0mAlfredo\u001b[0m \u001b[0;34m=\u001b[0m \u001b[0msaxon\u001b[0m\u001b[0;34m(\u001b[0m\u001b[0;34m)\u001b[0m\u001b[0;34m\u001b[0m\u001b[0;34m\u001b[0m\u001b[0m\n\u001b[0m\u001b[1;32m      2\u001b[0m \u001b[0mNatalia\u001b[0m \u001b[0;34m=\u001b[0m \u001b[0msaxon\u001b[0m\u001b[0;34m(\u001b[0m\u001b[0;34m)\u001b[0m\u001b[0;34m\u001b[0m\u001b[0;34m\u001b[0m\u001b[0m\n",
      "\u001b[0;31mNameError\u001b[0m: name 'saxon' is not defined"
     ]
    }
   ],
   "source": [
    "Alfredo = saxon()\n",
    "Natalia = saxon()\n"
   ]
  },
  {
   "cell_type": "code",
   "execution_count": null,
   "id": "430fb3c5",
   "metadata": {},
   "outputs": [],
   "source": [
    "vikingAttack()"
   ]
  }
 ],
 "metadata": {
  "kernelspec": {
   "display_name": "Python 3 (ipykernel)",
   "language": "python",
   "name": "python3"
  },
  "language_info": {
   "codemirror_mode": {
    "name": "ipython",
    "version": 3
   },
   "file_extension": ".py",
   "mimetype": "text/x-python",
   "name": "python",
   "nbconvert_exporter": "python",
   "pygments_lexer": "ipython3",
   "version": "3.8.10"
  }
 },
 "nbformat": 4,
 "nbformat_minor": 5
}
