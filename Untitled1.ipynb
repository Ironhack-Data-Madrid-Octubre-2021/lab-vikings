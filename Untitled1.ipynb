{
 "cells": [
  {
   "cell_type": "markdown",
   "id": "4efd3604",
   "metadata": {},
   "source": [
    "class War():\n",
    "    def __init__(self):\n",
    "        self.vikingArmy = []\n",
    "        self.saxonArmy = []\n",
    "\n",
    "    def addViking(self,oneviking):\n",
    "        vikingArmy.append(oneviking)\n",
    "\n",
    "    def addSaxon(self,onesaxon):\n",
    "        saxonArmy.append(onesaxon)\n",
    "    \n",
    "    \n",
    "        \n",
    "        retorno = unsaxoncualquiera.receiveDamage(unvikingcualquiera.strength)\n",
    "\n",
    "        if unsaxoncualquiera.strength =< 0:\n",
    "            saxonArmy.remove(unsaxoncualquiera)\n",
    "        \n",
    "        return retorno\n",
    "\n",
    "    def saxonAttack():\n",
    "        unvikingcualquiera = random.choice(vikingArmy)\n",
    "        unsaxoncualquiera = random.choice(saxongArmy)\n",
    "        \n",
    "        retorno = unvikingcualquiera.receiveDamage(unsaxoncualquiera.strength)\n",
    "\n",
    "        if unvikingcualquiera.strength =< 0:\n",
    "            vikingArmy.remove(unvikingcualquiera)\n",
    "        \n",
    "        return retorno\n"
   ]
  },
  {
   "cell_type": "code",
   "execution_count": 5,
   "id": "462d68ca",
   "metadata": {},
   "outputs": [],
   "source": [
    "class Soldier():\n",
    "    \n",
    "    def __init__(self, health, strength):\n",
    "        self.health = health\n",
    "        self.strength = strength\n",
    "\n",
    "    def attack(self):\n",
    "        return self.strength\n",
    "\n",
    "    def receiveDamage(self,damage):\n",
    "        self.health -= damage"
   ]
  },
  {
   "cell_type": "code",
   "execution_count": 6,
   "id": "904b7880",
   "metadata": {},
   "outputs": [],
   "source": [
    "class Viking(Soldier):\n",
    "    def __init__(self, name, health, strength):\n",
    "        super().__init__(health, strength)\n",
    "        self.name = name\n",
    "\n",
    "    def receiveDamage(self, damage):\n",
    "        self.health -= damage\n",
    "        if self.health > 0:\n",
    "            return f\"{self.name} has received {damage} points of damage\"\n",
    "        else:\n",
    "            return f\"{self.name} has died in act of combat\"\n",
    "    \n",
    "    def battleCry(self):\n",
    "        return \"Odin Owns You All!\""
   ]
  },
  {
   "cell_type": "code",
   "execution_count": 7,
   "id": "5fb9b3a2",
   "metadata": {},
   "outputs": [],
   "source": [
    "class War():\n",
    "    def __init__(self):\n",
    "        self.vikingArmy = []\n",
    "        self.saxonArmy = []"
   ]
  },
  {
   "cell_type": "code",
   "execution_count": 2,
   "id": "a76f7abb",
   "metadata": {},
   "outputs": [],
   "source": [
    "def addViking(self,oneviking):\n",
    "        vikingArmy.append(oneviking)"
   ]
  },
  {
   "cell_type": "code",
   "execution_count": 13,
   "id": "a42764d3",
   "metadata": {},
   "outputs": [
    {
     "ename": "TypeError",
     "evalue": "addViking() missing 1 required positional argument: 'oneviking'",
     "output_type": "error",
     "traceback": [
      "\u001b[0;31m---------------------------------------------------------------------------\u001b[0m",
      "\u001b[0;31mTypeError\u001b[0m                                 Traceback (most recent call last)",
      "\u001b[0;32m<ipython-input-13-7b869d31a16c>\u001b[0m in \u001b[0;36m<module>\u001b[0;34m\u001b[0m\n\u001b[0;32m----> 1\u001b[0;31m \u001b[0maddViking\u001b[0m\u001b[0;34m(\u001b[0m\u001b[0;34m\"oneviking\"\u001b[0m\u001b[0;34m)\u001b[0m\u001b[0;34m\u001b[0m\u001b[0;34m\u001b[0m\u001b[0m\n\u001b[0m",
      "\u001b[0;31mTypeError\u001b[0m: addViking() missing 1 required positional argument: 'oneviking'"
     ]
    }
   ],
   "source": [
    "addViking(\"oneviking\")"
   ]
  },
  {
   "cell_type": "code",
   "execution_count": 15,
   "id": "b81c4f63",
   "metadata": {},
   "outputs": [],
   "source": [
    "vikingArmy = []"
   ]
  },
  {
   "cell_type": "code",
   "execution_count": 17,
   "id": "4a97bebc",
   "metadata": {},
   "outputs": [],
   "source": [
    "vikingArmy.append(\"oneviking\")"
   ]
  },
  {
   "cell_type": "code",
   "execution_count": 18,
   "id": "71b62d9a",
   "metadata": {},
   "outputs": [
    {
     "name": "stdout",
     "output_type": "stream",
     "text": [
      "['oneviking']\n"
     ]
    }
   ],
   "source": [
    "print(vikingArmy)"
   ]
  },
  {
   "cell_type": "code",
   "execution_count": 31,
   "id": "03ad7eb3",
   "metadata": {},
   "outputs": [],
   "source": [
    "addViking(\"oneee\", \"-\")"
   ]
  },
  {
   "cell_type": "code",
   "execution_count": 32,
   "id": "af12e92a",
   "metadata": {},
   "outputs": [
    {
     "name": "stdout",
     "output_type": "stream",
     "text": [
      "['oneviking', '-', '-', '-', '-', '-', '-', '-']\n"
     ]
    }
   ],
   "source": [
    "print(vikingArmy)"
   ]
  },
  {
   "cell_type": "code",
   "execution_count": null,
   "id": "769299b7",
   "metadata": {},
   "outputs": [],
   "source": []
  },
  {
   "cell_type": "code",
   "execution_count": null,
   "id": "652daec6",
   "metadata": {},
   "outputs": [],
   "source": []
  },
  {
   "cell_type": "code",
   "execution_count": null,
   "id": "c1e0f7a5",
   "metadata": {},
   "outputs": [],
   "source": []
  },
  {
   "cell_type": "code",
   "execution_count": 33,
   "id": "313c3765",
   "metadata": {},
   "outputs": [
    {
     "ename": "NameError",
     "evalue": "name 'unsaxoncualquiera' is not defined",
     "output_type": "error",
     "traceback": [
      "\u001b[0;31m---------------------------------------------------------------------------\u001b[0m",
      "\u001b[0;31mNameError\u001b[0m                                 Traceback (most recent call last)",
      "\u001b[0;32m<ipython-input-33-f6f864ce164b>\u001b[0m in \u001b[0;36m<module>\u001b[0;34m\u001b[0m\n\u001b[0;32m----> 1\u001b[0;31m \u001b[0mretorno\u001b[0m \u001b[0;34m=\u001b[0m \u001b[0munsaxoncualquiera\u001b[0m\u001b[0;34m.\u001b[0m\u001b[0mreceiveDamage\u001b[0m\u001b[0;34m(\u001b[0m\u001b[0munvikingcualquiera\u001b[0m\u001b[0;34m.\u001b[0m\u001b[0mstrength\u001b[0m\u001b[0;34m)\u001b[0m\u001b[0;34m\u001b[0m\u001b[0;34m\u001b[0m\u001b[0m\n\u001b[0m",
      "\u001b[0;31mNameError\u001b[0m: name 'unsaxoncualquiera' is not defined"
     ]
    }
   ],
   "source": [
    " retorno = unsaxoncualquiera.receiveDamage(unvikingcualquiera.strength)"
   ]
  },
  {
   "cell_type": "code",
   "execution_count": 37,
   "id": "426e2f71",
   "metadata": {},
   "outputs": [],
   "source": [
    "class War():\n",
    "    def __init__(self):\n",
    "        self.vikingArmy = []\n",
    "        self.saxonArmy = []\n",
    "\n",
    "    def addViking(self,oneviking):\n",
    "        vikingArmy.append(oneviking)\n",
    "\n",
    "    def addSaxon(self,onesaxon):\n",
    "        saxonArmy.append(onesaxon)\n",
    "    \n",
    "        retorno = unsaxoncualquiera.receiveDamage(unvikingcualquiera.strength)\n",
    "\n",
    "        if float(unsaxoncualquiera.strength) <= 0:\n",
    "            saxonArmy.remove(unsaxoncualquiera)\n",
    "        \n",
    "        return retorno\n",
    "\n",
    "    def saxonAttack():\n",
    "        unvikingcualquiera = random.choice(vikingArmy)\n",
    "        unsaxoncualquiera = random.choice(saxongArmy)\n",
    "        \n",
    "        retorno = unvikingcualquiera.receiveDamage(unsaxoncualquiera.strength)\n",
    "\n",
    "        if unvikingcualquiera.strength <= 0:\n",
    "            vikingArmy.remove(unvikingcualquiera)\n",
    "        \n",
    "        return retorno\n"
   ]
  },
  {
   "cell_type": "code",
   "execution_count": 40,
   "id": "a8bdaa29",
   "metadata": {},
   "outputs": [],
   "source": [
    "import random"
   ]
  },
  {
   "cell_type": "code",
   "execution_count": 42,
   "id": "6eeb8078",
   "metadata": {},
   "outputs": [],
   "source": [
    "unvikingcualquiera = random.choice(vikingArmy)"
   ]
  },
  {
   "cell_type": "code",
   "execution_count": null,
   "id": "71142c09",
   "metadata": {},
   "outputs": [],
   "source": [
    "p"
   ]
  }
 ],
 "metadata": {
  "kernelspec": {
   "display_name": "Python 3",
   "language": "python",
   "name": "python3"
  },
  "language_info": {
   "codemirror_mode": {
    "name": "ipython",
    "version": 3
   },
   "file_extension": ".py",
   "mimetype": "text/x-python",
   "name": "python",
   "nbconvert_exporter": "python",
   "pygments_lexer": "ipython3",
   "version": "3.8.8"
  }
 },
 "nbformat": 4,
 "nbformat_minor": 5
}
