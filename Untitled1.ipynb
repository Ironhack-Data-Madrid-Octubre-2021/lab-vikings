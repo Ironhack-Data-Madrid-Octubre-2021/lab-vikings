{
 "cells": [
  {
   "cell_type": "markdown",
   "id": "febbccb4",
   "metadata": {},
   "source": [
    "class War():\n",
    "    def __init__(self):\n",
    "        self.vikingArmy = []\n",
    "        self.saxonArmy = []\n",
    "\n",
    "    def addViking(self,oneviking):\n",
    "        vikingArmy.append(oneviking)\n",
    "\n",
    "    def addSaxon(self,onesaxon):\n",
    "        saxonArmy.append(onesaxon)\n",
    "    \n",
    "    \n",
    "        \n",
    "        retorno = unsaxoncualquiera.receiveDamage(unvikingcualquiera.strength)\n",
    "\n",
    "        if unsaxoncualquiera.strength =< 0:\n",
    "            saxonArmy.remove(unsaxoncualquiera)\n",
    "        \n",
    "        return retorno\n",
    "\n",
    "    def saxonAttack():\n",
    "        unvikingcualquiera = random.choice(vikingArmy)\n",
    "        unsaxoncualquiera = random.choice(saxongArmy)\n",
    "        \n",
    "        retorno = unvikingcualquiera.receiveDamage(unsaxoncualquiera.strength)\n",
    "\n",
    "        if unvikingcualquiera.strength =< 0:\n",
    "            vikingArmy.remove(unvikingcualquiera)\n",
    "        \n",
    "        return retorno\n"
   ]
  },
  {
   "cell_type": "code",
   "execution_count": 5,
   "id": "089eda75",
   "metadata": {},
   "outputs": [],
   "source": [
    "class Soldier():\n",
    "    \n",
    "    def __init__(self, health, strength):\n",
    "        self.health = health\n",
    "        self.strength = strength\n",
    "\n",
    "    def attack(self):\n",
    "        return self.strength\n",
    "\n",
    "    def receiveDamage(self,damage):\n",
    "        self.health -= damage"
   ]
  },
  {
   "cell_type": "code",
   "execution_count": 6,
   "id": "5903be3a",
   "metadata": {},
   "outputs": [],
   "source": [
    "class Viking(Soldier):\n",
    "    def __init__(self, name, health, strength):\n",
    "        super().__init__(health, strength)\n",
    "        self.name = name\n",
    "\n",
    "    def receiveDamage(self, damage):\n",
    "        self.health -= damage\n",
    "        if self.health > 0:\n",
    "            return f\"{self.name} has received {damage} points of damage\"\n",
    "        else:\n",
    "            return f\"{self.name} has died in act of combat\"\n",
    "    \n",
    "    def battleCry(self):\n",
    "        return \"Odin Owns You All!\""
   ]
  },
  {
   "cell_type": "code",
   "execution_count": 7,
   "id": "718f1888",
   "metadata": {},
   "outputs": [],
   "source": [
    "class War():\n",
    "    def __init__(self):\n",
    "        self.vikingArmy = []\n",
    "        self.saxonArmy = []"
   ]
  },
  {
   "cell_type": "code",
   "execution_count": 2,
   "id": "a161ad8b",
   "metadata": {},
   "outputs": [],
   "source": [
    "def addViking(self,oneviking):\n",
    "        vikingArmy.append(oneviking)"
   ]
  },
  {
   "cell_type": "code",
   "execution_count": 13,
   "id": "f2b4d9a8",
   "metadata": {},
   "outputs": [
    {
     "ename": "TypeError",
     "evalue": "addViking() missing 1 required positional argument: 'oneviking'",
     "output_type": "error",
     "traceback": [
      "\u001b[0;31m---------------------------------------------------------------------------\u001b[0m",
      "\u001b[0;31mTypeError\u001b[0m                                 Traceback (most recent call last)",
      "\u001b[0;32m<ipython-input-13-7b869d31a16c>\u001b[0m in \u001b[0;36m<module>\u001b[0;34m\u001b[0m\n\u001b[0;32m----> 1\u001b[0;31m \u001b[0maddViking\u001b[0m\u001b[0;34m(\u001b[0m\u001b[0;34m\"oneviking\"\u001b[0m\u001b[0;34m)\u001b[0m\u001b[0;34m\u001b[0m\u001b[0;34m\u001b[0m\u001b[0m\n\u001b[0m",
      "\u001b[0;31mTypeError\u001b[0m: addViking() missing 1 required positional argument: 'oneviking'"
     ]
    }
   ],
   "source": [
    "addViking(\"oneviking\")"
   ]
  },
  {
   "cell_type": "code",
   "execution_count": 15,
   "id": "f1e367a8",
   "metadata": {},
   "outputs": [],
   "source": [
    "vikingArmy = []"
   ]
  },
  {
   "cell_type": "code",
   "execution_count": 17,
   "id": "3b7a0520",
   "metadata": {},
   "outputs": [],
   "source": [
    "vikingArmy.append(\"oneviking\")"
   ]
  },
  {
   "cell_type": "code",
   "execution_count": 18,
   "id": "cbec01ff",
   "metadata": {},
   "outputs": [
    {
     "name": "stdout",
     "output_type": "stream",
     "text": [
      "['oneviking']\n"
     ]
    }
   ],
   "source": [
    "print(vikingArmy)"
   ]
  },
  {
   "cell_type": "code",
   "execution_count": 50,
   "id": "ccbf4c46",
   "metadata": {},
   "outputs": [],
   "source": [
    "addViking(\"oneee\", \"estas\")"
   ]
  },
  {
   "cell_type": "code",
   "execution_count": 51,
   "id": "3b09823c",
   "metadata": {},
   "outputs": [
    {
     "name": "stdout",
     "output_type": "stream",
     "text": [
      "['oneviking', '-', '-', '-', '-', '-', '-', '-', 'ey', 'hola', 'como', 'estas']\n"
     ]
    }
   ],
   "source": [
    "print(vikingArmy)"
   ]
  },
  {
   "cell_type": "code",
   "execution_count": null,
   "id": "a193cff2",
   "metadata": {},
   "outputs": [],
   "source": []
  },
  {
   "cell_type": "code",
   "execution_count": null,
   "id": "5da7ea43",
   "metadata": {},
   "outputs": [],
   "source": []
  },
  {
   "cell_type": "code",
   "execution_count": null,
   "id": "b7302c76",
   "metadata": {},
   "outputs": [],
   "source": []
  },
  {
   "cell_type": "code",
   "execution_count": 33,
   "id": "0eef573b",
   "metadata": {},
   "outputs": [
    {
     "ename": "NameError",
     "evalue": "name 'unsaxoncualquiera' is not defined",
     "output_type": "error",
     "traceback": [
      "\u001b[0;31m---------------------------------------------------------------------------\u001b[0m",
      "\u001b[0;31mNameError\u001b[0m                                 Traceback (most recent call last)",
      "\u001b[0;32m<ipython-input-33-f6f864ce164b>\u001b[0m in \u001b[0;36m<module>\u001b[0;34m\u001b[0m\n\u001b[0;32m----> 1\u001b[0;31m \u001b[0mretorno\u001b[0m \u001b[0;34m=\u001b[0m \u001b[0munsaxoncualquiera\u001b[0m\u001b[0;34m.\u001b[0m\u001b[0mreceiveDamage\u001b[0m\u001b[0;34m(\u001b[0m\u001b[0munvikingcualquiera\u001b[0m\u001b[0;34m.\u001b[0m\u001b[0mstrength\u001b[0m\u001b[0;34m)\u001b[0m\u001b[0;34m\u001b[0m\u001b[0;34m\u001b[0m\u001b[0m\n\u001b[0m",
      "\u001b[0;31mNameError\u001b[0m: name 'unsaxoncualquiera' is not defined"
     ]
    }
   ],
   "source": [
    " retorno = unsaxoncualquiera.receiveDamage(unvikingcualquiera.strength)"
   ]
  },
  {
   "cell_type": "code",
   "execution_count": 37,
   "id": "c47edb48",
   "metadata": {},
   "outputs": [],
   "source": [
    "class War():\n",
    "    def __init__(self):\n",
    "        self.vikingArmy = []\n",
    "        self.saxonArmy = []\n",
    "\n",
    "    def addViking(self,oneviking):\n",
    "        vikingArmy.append(oneviking)\n",
    "\n",
    "    def addSaxon(self,onesaxon):\n",
    "        saxonArmy.append(onesaxon)\n",
    "    \n",
    "        retorno = unsaxoncualquiera.receiveDamage(unvikingcualquiera.strength)\n",
    "\n",
    "        if float(unsaxoncualquiera.strength) <= 0:\n",
    "            saxonArmy.remove(unsaxoncualquiera)\n",
    "        \n",
    "        return retorno\n",
    "\n",
    "    def saxonAttack():\n",
    "        unvikingcualquiera = random.choice(vikingArmy)\n",
    "        unsaxoncualquiera = random.choice(saxongArmy)\n",
    "        \n",
    "        retorno = unvikingcualquiera.receiveDamage(unsaxoncualquiera.strength)\n",
    "\n",
    "        if unvikingcualquiera.strength <= 0:\n",
    "            vikingArmy.remove(unvikingcualquiera)\n",
    "        \n",
    "        return retorno\n"
   ]
  },
  {
   "cell_type": "code",
   "execution_count": 40,
   "id": "1d883b5b",
   "metadata": {},
   "outputs": [],
   "source": [
    "import random"
   ]
  },
  {
   "cell_type": "code",
   "execution_count": 64,
   "id": "3eeb7618",
   "metadata": {},
   "outputs": [],
   "source": [
    "unvikingcualquiera = random.choice(vikingArmy)"
   ]
  },
  {
   "cell_type": "code",
   "execution_count": 65,
   "id": "d446c4a6",
   "metadata": {},
   "outputs": [
    {
     "name": "stdout",
     "output_type": "stream",
     "text": [
      "estas\n"
     ]
    }
   ],
   "source": [
    "print(unvikingcualquiera)"
   ]
  },
  {
   "cell_type": "code",
   "execution_count": 66,
   "id": "b58f191a",
   "metadata": {},
   "outputs": [],
   "source": [
    "hola = []"
   ]
  },
  {
   "cell_type": "code",
   "execution_count": 67,
   "id": "f2f02442",
   "metadata": {},
   "outputs": [
    {
     "data": {
      "text/plain": [
       "list"
      ]
     },
     "execution_count": 67,
     "metadata": {},
     "output_type": "execute_result"
    }
   ],
   "source": [
    "type(hola)"
   ]
  },
  {
   "cell_type": "code",
   "execution_count": 68,
   "id": "c181dc40",
   "metadata": {},
   "outputs": [],
   "source": [
    "hola = None"
   ]
  },
  {
   "cell_type": "code",
   "execution_count": 69,
   "id": "d71c2e2c",
   "metadata": {},
   "outputs": [
    {
     "data": {
      "text/plain": [
       "NoneType"
      ]
     },
     "execution_count": 69,
     "metadata": {},
     "output_type": "execute_result"
    }
   ],
   "source": [
    "type(hola)"
   ]
  },
  {
   "cell_type": "code",
   "execution_count": null,
   "id": "3d4aae69",
   "metadata": {},
   "outputs": [],
   "source": []
  },
  {
   "cell_type": "code",
   "execution_count": 72,
   "id": "fd6854b4",
   "metadata": {},
   "outputs": [],
   "source": [
    "vikingArmy = []"
   ]
  },
  {
   "cell_type": "code",
   "execution_count": 70,
   "id": "fb89c416",
   "metadata": {},
   "outputs": [],
   "source": [
    "def showstatus(self):\n",
    "        if self.saxonArmy is NoneType:\n",
    "            return \"Vikings have won the war of the century!\"\n",
    "\n",
    "        if self.vikingArmy is NoneType:\n",
    "            return \"Saxons have fought for their lives and survive another day...\"\n",
    "        \n",
    "        if self.saxonArmy >=1 and self.vikingArmy >=1:\n",
    "            return \"Vikings and Saxons are still in the thick of battle.\"\n",
    "        "
   ]
  },
  {
   "cell_type": "code",
   "execution_count": 78,
   "id": "6cf1023e",
   "metadata": {},
   "outputs": [],
   "source": [
    "if vikingArmy is None:\n",
    "    print (\"Saxons have fought for their lives and survive another day...\")\n",
    "        "
   ]
  },
  {
   "cell_type": "code",
   "execution_count": 87,
   "id": "397270ab",
   "metadata": {},
   "outputs": [],
   "source": [
    "saxonArmy = []"
   ]
  },
  {
   "cell_type": "code",
   "execution_count": null,
   "id": "b9b1f119",
   "metadata": {},
   "outputs": [],
   "source": []
  },
  {
   "cell_type": "code",
   "execution_count": 88,
   "id": "f256a23f",
   "metadata": {},
   "outputs": [],
   "source": [
    "def showstatus():\n",
    "        if len(self.saxonArmy) == 0:\n",
    "            return \"Vikings have won the war of the century!\"\n",
    "\n",
    "        if len(self.vikingArmy) == 0:\n",
    "            return \"Saxons have fought for their lives and survive another day...\"\n",
    "        \n",
    "        if len(self.saxonArmy) >=1 and len(self.vikingArmy) >=1:\n",
    "            return \"Vikings and Saxons are still in the thick of battle.\""
   ]
  },
  {
   "cell_type": "code",
   "execution_count": 89,
   "id": "139e648f",
   "metadata": {},
   "outputs": [
    {
     "name": "stdout",
     "output_type": "stream",
     "text": [
      "Vikings have won the war of the century!\n"
     ]
    }
   ],
   "source": [
    " if len(saxonArmy) == 0:\n",
    "    print (\"Vikings have won the war of the century!\")"
   ]
  },
  {
   "cell_type": "code",
   "execution_count": null,
   "id": "2ff5a261",
   "metadata": {},
   "outputs": [],
   "source": []
  }
 ],
 "metadata": {
  "kernelspec": {
   "display_name": "Python 3",
   "language": "python",
   "name": "python3"
  },
  "language_info": {
   "codemirror_mode": {
    "name": "ipython",
    "version": 3
   },
   "file_extension": ".py",
   "mimetype": "text/x-python",
   "name": "python",
   "nbconvert_exporter": "python",
   "pygments_lexer": "ipython3",
   "version": "3.8.8"
  }
 },
 "nbformat": 4,
 "nbformat_minor": 5
}
